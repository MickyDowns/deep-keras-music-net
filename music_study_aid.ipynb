{
 "cells": [
  {
   "cell_type": "markdown",
   "metadata": {},
   "source": [
    "# Imports"
   ]
  },
  {
   "cell_type": "code",
   "execution_count": 4,
   "metadata": {
    "collapsed": false
   },
   "outputs": [],
   "source": [
    "import numpy as np\n",
    "#import pyaudio\n",
    "import time\n",
    "import matplotlib.pyplot as plt\n",
    "%matplotlib inline\n",
    "\n",
    "import essentia\n",
    "# there are 2 operating modes in essentia which have the same algorithms:\n",
    "import essentia.standard\n",
    "import essentia.streaming\n",
    "\n",
    "import madmom as mad"
   ]
  },
  {
   "cell_type": "markdown",
   "metadata": {
    "collapsed": true
   },
   "source": [
    "# Process data sets"
   ]
  },
  {
   "cell_type": "code",
   "execution_count": 18,
   "metadata": {
    "collapsed": false,
    "scrolled": true
   },
   "outputs": [
    {
     "data": {
      "image/png": "[encoded data removed]",
      "text/plain": [
       "<matplotlib.figure.Figure at 0x125242e50>"
      ]
     },
     "metadata": {},
     "output_type": "display_data"
    },
    {
     "data": {
      "image/png": "[encoded data removed]",
      "text/plain": [
       "<matplotlib.figure.Figure at 0x126c17c10>"
      ]
     },
     "metadata": {},
     "output_type": "display_data"
    },
    {
     "data": {
      "image/png": "[encoded data removed]",
      "text/plain": [
       "<matplotlib.figure.Figure at 0x126d31610>"
      ]
     },
     "metadata": {},
     "output_type": "display_data"
    }
   ],
   "source": [
    "# folds used in article N\n",
    "\n",
    "#url = 'http://www.eecs.qmul.ac.uk/~sss31/TASLP/'\n",
    "\n",
    "dat_dir = 'data/maps/'\n",
    "train_fn = ['debug.txt', 'train1.txt', 'train2.txt', 'train3.txt', 'train4.txt']\n",
    "test_fn = ['test1.txt', 'test2.txt', 'test3.txt', 'test4.txt']\n",
    "\n",
    "for i in range(1): # range(len(train_fn)\n",
    "    \n",
    "    # create train data structure. don't think you want continuous string b/c y times have to match\n",
    "    train_x = []; train_y = []; test_x = []; test_y = []\n",
    "    \n",
    "    for line in open(dat_dir + train_fn[i], 'U'):  # opened in text-mode; all EOLs are converted to '\\n'\n",
    "        line = line.rstrip('\\n')\n",
    "        \n",
    "        # append Essentia or Madmom objects w/ x parms, .wav duration\n",
    "        train_x.append(wave_to_x(dat_dir, line))\n",
    "        \n",
    "        #train_y.append(txt_to_y(dat_dir, train_fld[j], train_x[j].wav_dur)\n",
    "        \n",
    "        # save essentia object under trainfile name\n",
    "        \n",
    "    #for line in open(dat_dir + test_fn[i], 'U'):  # opened in text-mode; all EOLs are converted to '\\n'\n",
    "    #    line = line.rstrip('\\n')\n",
    "            \n",
    "    #    test_x.append(wave_to_x(dat_dir, line))\n",
    "        \n",
    "        #test_y.append(txt_to_y(dat_dir, test_fld[j], test_x[j].wav_dur)\n",
    "        \n",
    "        # save essentia object under trainfile name\n",
    "        \n",
    "    # now you've got these objects. you need to chunk through them feeding variables to nets then integrating nets "
   ]
  },
  {
   "cell_type": "markdown",
   "metadata": {},
   "source": [
    "# wav-to-x"
   ]
  },
  {
   "cell_type": "code",
   "execution_count": 16,
   "metadata": {
    "collapsed": false
   },
   "outputs": [],
   "source": [
    "from scipy.ndimage.filters import maximum_filter\n",
    "\n",
    "#fps = TBD\n",
    "#frm_rt = 1 / fps\n",
    "\n",
    "def wave_to_x(wav_dir, wav_file):\n",
    "\n",
    "    log_filt_spec = mad.audio.spectrogram.LogarithmicFilteredSpectrogram(wav_dir + wav_file,\n",
    "                                                                         num_channels=1,\n",
    "                                                                         num_bands=48)\n",
    "    \n",
    "    superflux = mad.features.onsets.superflux(log_filt_spec)\n",
    "    plt.figure(), plt.plot(superflux)\n",
    "    \n",
    "    # PROBLEM:\n",
    "    # 1. IS LOG FILTERED SPECTROGRAM AN ABSOLUTE (ACROSS SAMPLES) OR RELATIVE (W/IN SAMPLE) SCALE\n",
    "    # 2. Is max pitch sufficient for identifying notes, chords?\n",
    "    \n",
    "    # wave form\n",
    "    # duration\n",
    "    \n",
    "    return(superflux)\n",
    "    "
   ]
  },
  {
   "cell_type": "code",
   "execution_count": 41,
   "metadata": {
    "collapsed": false
   },
   "outputs": [
    {
     "data": {
      "text/plain": [
       "(31141,)"
      ]
     },
     "execution_count": 41,
     "metadata": {},
     "output_type": "execute_result"
    },
    {
     "data": {
      "image/png": "[encoded data removed]",
      "text/plain": [
       "<matplotlib.figure.Figure at 0x123c84910>"
      ]
     },
     "metadata": {},
     "output_type": "display_data"
    }
   ],
   "source": [
    "plt.plot(train_x[0][:500])\n",
    "train_x[0].shape"
   ]
  },
  {
   "cell_type": "code",
   "execution_count": 42,
   "metadata": {
    "collapsed": false
   },
   "outputs": [
    {
     "ename": "AttributeError",
     "evalue": "'SpectrogramDifference' object has no attribute 'sample_rate'",
     "output_type": "error",
     "traceback": [
      "\u001b[0;31m---------------------------------------------------------------------------\u001b[0m",
      "\u001b[0;31mAttributeError\u001b[0m                            Traceback (most recent call last)",
      "\u001b[0;32m<ipython-input-42-2f2309eb9fd1>\u001b[0m in \u001b[0;36m<module>\u001b[0;34m()\u001b[0m\n\u001b[0;32m----> 1\u001b[0;31m \u001b[0mtrain_x\u001b[0m\u001b[0;34m[\u001b[0m\u001b[0;36m0\u001b[0m\u001b[0;34m]\u001b[0m\u001b[0;34m.\u001b[0m\u001b[0msample_rate\u001b[0m\u001b[0;34m\u001b[0m\u001b[0m\n\u001b[0m",
      "\u001b[0;31mAttributeError\u001b[0m: 'SpectrogramDifference' object has no attribute 'sample_rate'"
     ]
    }
   ],
   "source": [
    "train_x[0]"
   ]
  },
  {
   "cell_type": "markdown",
   "metadata": {},
   "source": [
    "# txt-to-y"
   ]
  },
  {
   "cell_type": "code",
   "execution_count": null,
   "metadata": {
    "collapsed": true
   },
   "outputs": [],
   "source": [
    "# open / read text file\n",
    "# create y vect of zeros of len wav_dur / frm_rt\n",
    "# iterate thru lines\n",
    "    # onset detection: flip 1's from onset to offset\n",
    "    # pitch detection: 88 notes? 88 notes + chords? Or, train it to flip multiple 1's for chords. \n",
    "        # while best is only 88 (flipping more than one), think softmax assumes mutually exclusive\n",
    "    \n",
    "    "
   ]
  },
  {
   "cell_type": "markdown",
   "metadata": {},
   "source": [
    "how do you spot notes vs. echos vs. chords?\n",
    "if you feed frames at 44100 hz, does it learn to recognize c# by its peak spectrum profile? or can it spot that as it develops frame by frame?\n",
    "\n",
    "is it more efficient to run an onset / offset identifier (network or other) first to pull out the sounds and feed them to the network? \n",
    "\n",
    "how do you encode y? they've put down the onset and offset times. \n",
    "1. if you encode y=1 for all frames during that period, you're hoping it can spot the tone on the way up and down. that suggests a multi-frame CNN or a LSTM. theoretically, it could try to predict for every frame. but on way down lots of notes look the same. so, confidence s/b low and you'd not predict (default 0). \n",
    "\n",
    "2. if you think it's just going to find it based on relative peaks, take start time + 100ms\n",
    "\n",
    "3. at 47kHz you're getting 800 frames / second. that's a lot. maybe sample less to get rougher image. train acustic model less and use song model to bring up accuracy i.e., taking output from last hidden nodes for acustic and song models \n",
    "\n",
    "READ HER ORIGINAL PIECE, THE OTHER ONE THAT USED HERS AND/OR THE ONE THAT MENTIONED \n",
    "\n",
    "1. if you have onset identifier,it needs to be an array of 0's as long as x. then at the time stamp, it needs to be incoded w/ the midi pitch? then you need to translate to the note"
   ]
  },
  {
   "cell_type": "code",
   "execution_count": null,
   "metadata": {
    "collapsed": true
   },
   "outputs": [],
   "source": [
    "for ds in datasets:\n",
    "    \n",
    "    # LogarithmicFilteredSpectrogram class accepts STFT, FramedSignal, Signal object or a file name as input.\n",
    "    # It loads, filters and scales.\n",
    "\n",
    "    log_filt_spec2 = mad.audio.spectrogram.LogarithmicFilteredSpectrogram('data/maps/MAPS_AkPnBcht_1/AkPnBcht/ISOL/CH/MAPS_ISOL_CH0.1_F_AkPnBcht.wav',\n",
    "                                                                      num_channels=1,\n",
    "                                                                      num_bands=24)\n",
    "    \n",
    "    log_filt_spec = mad.audio.spectrogram.LogarithmicFilteredSpectrogram(ds,\n",
    "                                                                         num_channels=1,\n",
    "                                                                         num_bands=24)\n",
    "\n",
    "    # SpectrogramDifference class calculates first order difference of a spectrogram. diff_frames sets the number\n",
    "    # of frames how far apart the difference should be calculated. diff_max_bins performs maximum filtering. Or, \n",
    "    # positive_diffs returns only the positive differences. Resulting diff spectrogram has the same shape as the \n",
    "    # given one (np.diff() does not), with all frames < diff_frames set to zero.\n",
    "\n",
    "    superflux_diff = mad.audio.spectrogram.SpectrogramDifference(log_filt_spec, positive_diffs=True, diff_max_bins=3)\n",
    "\n",
    "    superflux_2 = np.sum(superflux_diff, axis=1)\n",
    "\n",
    "    superflux_3 = mad.features.onsets.superflux(log_filt_spec)\n",
    "\n",
    "    # we scale them to have the same range\n",
    "    plt.figure()\n",
    "    plt.plot(sf1 / sf1.max(), 'b')  # blue\n",
    "    plt.plot(superflux1 / superflux1.max(), 'g')  # green\n",
    "    plt.plot(superflux_2_1 / superflux_2_1.max(), 'r--')  # dashed red\n",
    "    plt.plot(superflux_3_1 / superflux_3_1.max(), 'k:')  # dotted black\n"
   ]
  },
  {
   "cell_type": "markdown",
   "metadata": {
    "collapsed": true
   },
   "source": [
    "# Read\n",
    "\n",
    "1. Files from directory, OR\n",
    "2. Stream"
   ]
  },
  {
   "cell_type": "code",
   "execution_count": null,
   "metadata": {
    "collapsed": true
   },
   "outputs": [],
   "source": []
  },
  {
   "cell_type": "markdown",
   "metadata": {},
   "source": [
    "# V1: Import piano train / test data\n",
    "\n",
    "1. Take their lists of train and test data\n",
    "2. Create list object\n",
    "3. Feed it to a process to either iteratively or bulk load files from directory\n",
    "4. Perform log scale transform of input wav\n",
    "5. Come back to other features, chords\n"
   ]
  },
  {
   "cell_type": "markdown",
   "metadata": {},
   "source": [
    "# Learn to map sound to notes\n",
    "\n",
    "1. Take professional music sound files\n",
    "2. Play, logging spectrum (frequency / time) and other attributes\n",
    "    a. https://github.com/tyiannak/pyAudioAnalysis/wiki/3.-Feature-Extraction, OR\n",
    "    b. \n",
    "3. Predict notes based on sound\n",
    "    a. input spectrum is the \"X\"\n",
    "    b. sheet music notes are the \"y\" (notes A, B, C, etc.)"
   ]
  },
  {
   "cell_type": "markdown",
   "metadata": {},
   "source": [
    "# V1: Generate harp note / chord train / test files\n",
    "\n",
    "Garageband or other to generate:\n",
    "1. individual instrument note (pitch?), chord by major/minor, octave, inversion\n",
    "2. sequence files w/ varying amounts of spacing\n",
    "3. mp3's of classical music for which you can easily veryify the notes\n"
   ]
  },
  {
   "cell_type": "code",
   "execution_count": null,
   "metadata": {
    "collapsed": true
   },
   "outputs": [],
   "source": []
  },
  {
   "cell_type": "markdown",
   "metadata": {},
   "source": [
    "# V2: Standard: Fingerprint music files"
   ]
  },
  {
   "cell_type": "code",
   "execution_count": null,
   "metadata": {
    "collapsed": true
   },
   "outputs": [],
   "source": [
    "# use FFT, MFCC, etc to create a fignerprint of each of the music files s/t when user starts playing, you can take notes they've played and match "
   ]
  },
  {
   "cell_type": "markdown",
   "metadata": {},
   "source": [
    "# V2: Streaming: Extract note Sample"
   ]
  },
  {
   "cell_type": "markdown",
   "metadata": {},
   "source": [
    "# V2: Streaming: Search / match sample to fingerprints"
   ]
  },
  {
   "cell_type": "markdown",
   "metadata": {},
   "source": [
    "# Establish stream\n",
    "\n",
    "Use pyaudio to instantiate stream for practice session"
   ]
  },
  {
   "cell_type": "code",
   "execution_count": null,
   "metadata": {
    "collapsed": true
   },
   "outputs": [],
   "source": [
    "WIDTH = 2\n",
    "CHANNELS = 2\n",
    "RATE = 44100\n",
    "\n",
    "p = pyaudio.PyAudio()\n",
    "\n",
    "def callback(in_data, frame_count, time_info, status):\n",
    "    return (in_data, pyaudio.paContinue)\n",
    "\n",
    "stream = p.open(format=p.get_format_from_width(WIDTH),\n",
    "                channels=CHANNELS,\n",
    "                rate=RATE,\n",
    "                input=True,\n",
    "                output=True,\n",
    "                stream_callback=callback)\n",
    "\n",
    "stream.start_stream()\n",
    "\n",
    "while stream.is_active():\n",
    "    time.sleep(0.1)\n",
    "\n",
    "stream.stop_stream()\n",
    "stream.close()\n",
    "\n",
    "p.terminate()"
   ]
  },
  {
   "cell_type": "markdown",
   "metadata": {},
   "source": [
    "# Display mode\n",
    "\n",
    "1. Accept song selection\n",
    "2. Load / display sheet music\n",
    "3. Listen for start\n",
    "4. Recieve sounds / translate notes\n",
    "5. Track progress w/ vertical bar\n",
    "6. Spot repeats re-setting tracking bar"
   ]
  },
  {
   "cell_type": "code",
   "execution_count": null,
   "metadata": {
    "collapsed": true
   },
   "outputs": [],
   "source": [
    "# https://github.com/tyiannak/pyAudioAnalysis\n",
    "# http://essentia.upf.edu/documentation/\n"
   ]
  },
  {
   "cell_type": "markdown",
   "metadata": {},
   "source": [
    "# Evaluate mode\n",
    "\n",
    "1. display mode functionality including tracking progress\n",
    "2. record playing. overlay repeats. you're tracking stats. so, obj s/b:\n",
    "    a. to get through song re-playing pieces as required, THEN\n",
    "    b. to get through song cleanly\n",
    "3. comparing played to professional\n",
    "    a. option to play:\n",
    "        i. metrinome \n",
    "        ii. professional a low volume\n",
    "4. identify discrpancies (timing after prior note, incorrect note)\n",
    "    a. Gaia, a C++ library with python bindings which implement similarity measures and classification on the results of audio analysis, and generate classification models that Essentia can use to compute high-level description of music.\n",
    "5. show discrepancies\n",
    "    a. accept tolerances (+/- time, other?)\n",
    "    b. show played note in red (i.e., before/after, above/below).\n",
    "6. show / log statistics\n",
    "    a. accuracy\n",
    "    b. similarity\n",
    "    c. error types and frequency distribution\n",
    "        i. early,\n",
    "        ii. late\n",
    "        iii. wrong note\n",
    "    d. problem areas"
   ]
  },
  {
   "cell_type": "code",
   "execution_count": null,
   "metadata": {
    "collapsed": true
   },
   "outputs": [],
   "source": []
  },
  {
   "cell_type": "markdown",
   "metadata": {},
   "source": [
    "# Interactive mode\n",
    "\n",
    "1. evaluate mode functionality\n",
    "2. prompt session info and imprint voice of user for command interface\n",
    "    a. \"this is []. the date is []. i'll be practicing for about [] minutes.\"\n",
    "3. voice commands\n",
    "    a. \"replay [] notes\" - defaults to: 5 notes, played version\n",
    "    b. \"replay base [] notes\"\n",
    "    c. \"loop [] notes\" - \n",
    "        ii. Loop [] notes / Stop Loop\n",
    "2. "
   ]
  },
  {
   "cell_type": "code",
   "execution_count": null,
   "metadata": {
    "collapsed": true
   },
   "outputs": [],
   "source": []
  },
  {
   "cell_type": "markdown",
   "metadata": {
    "collapsed": true
   },
   "source": [
    "# References\n",
    "\n",
    "This project would not be possible without the invaluable assistance of:\n",
    "\n",
    "## Training data\n",
    "\n",
    "The MAPS piano data set. Roughly 40G of piano notes, chords, music assembled by V. Emiya for her PhD thesis at Telecom ParisTech/ENST in 2008 and in conjunction with R. Badeau, B. David for their paper \"Multipitch estimation of piano sounds using a new probabilistic spectral smoothness principle\"<cite data-cite=\"emiya2010multipitch\"></cite>\n"
   ]
  },
  {
   "cell_type": "code",
   "execution_count": null,
   "metadata": {
    "collapsed": true
   },
   "outputs": [],
   "source": [
    "# for installing latex, bibtex and pdf-ing jupyter notenooks: https://www.youtube.com/watch?v=m3o1KXA1Rjk"
   ]
  }
 ],
 "metadata": {
  "kernelspec": {
   "display_name": "Python 2",
   "language": "python",
   "name": "python2"
  },
  "language_info": {
   "codemirror_mode": {
    "name": "ipython",
    "version": 2
   },
   "file_extension": ".py",
   "mimetype": "text/x-python",
   "name": "python",
   "nbconvert_exporter": "python",
   "pygments_lexer": "ipython2",
   "version": "2.7.11"
  }
 },
 "nbformat": 4,
 "nbformat_minor": 0
}
