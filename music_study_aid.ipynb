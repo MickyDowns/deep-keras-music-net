{
 "cells": [
  {
   "cell_type": "markdown",
   "metadata": {},
   "source": [
    "# Install"
   ]
  },
  {
   "cell_type": "code",
   "execution_count": null,
   "metadata": {
    "collapsed": true
   },
   "outputs": [],
   "source": [
    "pip install image # install's PIL, the python image library\n",
    "# install portaudio is required by pyaudio (http://portaudio.com/docs/v19-doxydocs/tutorial_start.html)\n",
    "pip install pyaudio # for recording within python. used for audioSearch module\n",
    "pip install pygame # for realtime MIDI performance in midi.realtime module\n",
    "# install muscore for viewing and editing music notation (http://www.musescore.org)\n",
    "# install lilypond for displaying musical scores (http://lilypond.org/) "
   ]
  },
  {
   "cell_type": "markdown",
   "metadata": {},
   "source": [
    "# Import"
   ]
  },
  {
   "cell_type": "code",
   "execution_count": 555,
   "metadata": {
    "collapsed": false
   },
   "outputs": [],
   "source": [
    "import os\n",
    "import numpy as np\n",
    "import pandas as pd\n",
    "from StringIO import StringIO\n",
    "\n",
    "#import pyaudio\n",
    "import time\n",
    "import matplotlib.pyplot as plt\n",
    "%matplotlib inline\n",
    "\n",
    "import essentia\n",
    "# there are 2 operating modes in essentia which have the same algorithms:\n",
    "import essentia.standard\n",
    "import essentia.streaming\n",
    "\n",
    "import madmom as mad\n",
    "\n",
    "import music21 as m21"
   ]
  },
  {
   "cell_type": "code",
   "execution_count": 919,
   "metadata": {
    "collapsed": false
   },
   "outputs": [
    {
     "data": {
      "text/plain": [
       "60"
      ]
     },
     "execution_count": 919,
     "metadata": {},
     "output_type": "execute_result"
    }
   ],
   "source": [
    "len(range(36, 96))"
   ]
  },
  {
   "cell_type": "markdown",
   "metadata": {},
   "source": [
    "# Globals"
   ]
  },
  {
   "cell_type": "code",
   "execution_count": 979,
   "metadata": {
    "collapsed": false
   },
   "outputs": [],
   "source": [
    "# pitches, notes\n",
    "NUM_PITCH_CLASS = 12               # C, C#, D, D#, E, F, F#, G, G#, A, A#, B\n",
    "NUM_MIDI_PITCH = 127               # range of audible sounds\n",
    "RANGE_PIANO_PITCH = range(21,109)  # midi 21:108 inclusive, 7.25 octave piano scale\n",
    "NUM_PIANO_PITCH = len(RANGE_PIANO_PITCH)\n",
    "\n",
    "# chords\n",
    "NUM_COM_CHORD_OCTAVE = 5\n",
    "NUM_ALL_CHORD_PITCH = NUM_PIANO_PITCH # midi 21:108 inclusive. 7.25 octave piano scale\n",
    "RANGE_COM_CORD_PITCH = range(36,96) # midi 36:95 inclusive, 5 octave piano scale\n",
    "NUM_COM_CHORD_PITCH = len(RANGE_COM_CHORD_PITCH)\n",
    "NUM_MAJOR_MINOR = 2\n",
    "CHORD_KEY_SETS = 1 # only 3-key chords \n",
    "\n",
    "# loudness\n",
    "RANGE_MEZZO_FORTE = range(60, 69)\n",
    "RANGE_PIANO_FORTE = range(32, 97)\n",
    "\n",
    "# classes\n",
    "NUM_NOT_TGT_CLASS = 1\n",
    "NUM_PITCH_CLASSES = NUM_PIANO_PITCH + NUM_NOT_TGT_CLASS\n",
    "NUM_CHORD_CLASSES = (NUM_COM_CHORD_PITCH * NUM_MAJOR_MINOR * CHORD_KEY_SETS) + NUM_NOT_TGT_CLASS\n",
    "\n",
    "# to standardize feature extract algos\n",
    "NUM_SAMPLES = 22050 # 44100\n",
    "NUM_FRAMES = 1024 # 2048\n",
    "NUM_HOPS = 512 # 441\n",
    "NUM_BANDS = 24 # 48\n",
    "\n",
    "# other \n",
    "dat_dir = 'data/maps/'"
   ]
  },
  {
   "cell_type": "markdown",
   "metadata": {
    "collapsed": true
   },
   "source": [
    "# Data Prep"
   ]
  },
  {
   "cell_type": "markdown",
   "metadata": {},
   "source": [
    "## 1. Build Train and Test sets"
   ]
  },
  {
   "cell_type": "markdown",
   "metadata": {},
   "source": [
    "### a. Notes & Chords"
   ]
  },
  {
   "cell_type": "code",
   "execution_count": 913,
   "metadata": {
    "collapsed": false
   },
   "outputs": [
    {
     "name": "stdout",
     "output_type": "stream",
     "text": [
      "('total note files:', 1863)\n",
      "744\n",
      "data/maps/AkPnBcht/ISOL/TR1/MAPS_ISOL_TR1_F_S0_M59_AkPnBcht.mid\n",
      "186\n",
      "data/maps/SptkBGAm/ISOL/RE/MAPS_ISOL_RE_M_S1_M34_SptkBGAm.mid\n",
      "('total chord RAND files:', 10800)\n"
     ]
    }
   ],
   "source": [
    "from os import listdir\n",
    "from os.path import isfile, join\n",
    "import glob\n",
    "import random as rand\n",
    "\n",
    "# 1. notes\n",
    "    # a. return file names from ISOL/CH, ISOL/RE and ISOL/TR1-2)\n",
    "fnames = []\n",
    "\n",
    "for line in open(dat_dir + 'note_dirs_1.txt', 'U'):\n",
    "    line = line.rstrip('\\n')\n",
    "    fnames = fnames + glob.glob(dat_dir + line + '*.mid')\n",
    "    \n",
    "    # b. divide into train (80%) and test (20%), two folds each\n",
    "    # note: may subsequently divide test into test and validation\n",
    "folds = assign_file_to_folds(fnames)\n",
    "\n",
    "    # d. format y from text\n",
    "yVals = format_xy(folds, \"y\")\n",
    "\n",
    "    # d. format x from wav\n",
    "xVals = format_xy(folds, \"x\")\n",
    "    \n",
    "    # e. save\n",
    "with open('data/wip/folds/notes_y', 'wb') as f:\n",
    "    pickle.dump(yVals, f)\n",
    "    \n",
    "with open('data/wip/folds/notes_x', 'wb') as f:\n",
    "    pickle.dump(xVals, f)\n",
    "    \n",
    "    # f. to recover\n",
    "#with open('data/wip/folds/notes_y', 'rb') as f:\n",
    "#    yVals = pickle.load(f)\n",
    "\n",
    "#with open('data/wip/folds/notes_x', 'rb') as f:\n",
    "#    xVals = pickle.load(f)\n",
    "    \n",
    "#saveas = ['data/wip/train/ntrnf1_y.txt',\n",
    "#          'data/wip/train/ntrnf2_y.txt'\n",
    "#          'data/wip/train/ntstf1_y.txt'\n",
    "#          'data/wip/train/ntstf2_y.txt']\n",
    "\n",
    "#for item in saveas: \n",
    "#    with open(saveas[i], 'w') as fl:\n",
    "#        for item in ntrf1_y:\n",
    "#            fl.write(item + '\\n')\n",
    "\n",
    "\n",
    "# 2. chords\n",
    "    # a. common\n",
    "        # i. return file names w/ UCHO\n",
    "fnames = glob.glob(\"data/maps/*/UCHO/*/*/*.txt\")\n",
    "\n",
    "        # ii. divide into train (80%) and test (20%), two folds each\n",
    "folds = assign_file_to_folds(fnames)\n",
    "\n",
    "        # iii. format y from text\n",
    "yVals = format_xy(folds, \"y\")\n",
    "\n",
    "        # iv. format x from wav\n",
    "xVals = format_xy(folds, \"x\")\n",
    "\n",
    "        # v. save\n",
    "with open('data/wip/folds/com_chord_y', 'wb') as f:\n",
    "    pickle.dump(yVals, f)\n",
    "    \n",
    "with open('data/wip/folds/com_chord_x', 'wb') as f:\n",
    "    pickle.dump(xVals, f)\n",
    "    \n",
    "    \n",
    "    # b. random\n",
    "        # i. return file names w/ RAND\n",
    "fnames = glob.glob(\"data/maps/*/RAND/*/*/*/*.txt\")    \n",
    "\n",
    "        # ii. divide into train (80%) and test (20%), two folds each\n",
    "folds = assign_file_to_folds(fnames)\n",
    "\n",
    "        # iii. format y from text\n",
    "yVals = format_xy(folds, \"y\")\n",
    "\n",
    "        # iv. format x from wav\n",
    "xVals = format_xy(folds, \"x\")\n",
    "\n",
    "        # v. save\n",
    "with open('data/wip/folds/rand_chord_y', 'wb') as f:\n",
    "    pickle.dump(yVals, f)\n",
    "    \n",
    "with open('data/wip/folds/rand_chord_x', 'wb') as f:\n",
    "    pickle.dump(xVals, f)\n"
   ]
  },
  {
   "cell_type": "code",
   "execution_count": null,
   "metadata": {
    "collapsed": true
   },
   "outputs": [],
   "source": [
    "def assign_file_to_folds(fnames):\n",
    "    \n",
    "    num_files = len(fnames); print(\"total files:\",num_files)\n",
    "    \n",
    "    rand.seed(123)\n",
    "    rand.shuffle(fnames)\n",
    "    size = int(num_files / 10)\n",
    "\n",
    "    trn1 = fnames[0:(4*size)]\n",
    "    trn2 = fnames[(4*size):(8*size)]\n",
    "    tst1 = fnames[(8*size):(9*size)]\n",
    "    tst2 = fnames[(9*size):(10*size)]\n",
    "    \n",
    "    return([trn1, trn2, tst1, tst2])"
   ]
  },
  {
   "cell_type": "code",
   "execution_count": null,
   "metadata": {
    "collapsed": true
   },
   "outputs": [],
   "source": [
    "def format_xy(folds, x_y):\n",
    "\n",
    "    trn1 = []; trn2 = []; tst1 = []; tst2 = []\n",
    "    \n",
    "    if x_y == \"y\":\n",
    "        # concatenate each .txt file's y values\n",
    "        for line in folds[0]: trn1 = trn1 + txt_to_y(line)\n",
    "        for line in folds[1]: trn2 = trn2 + txt_to_y(line)\n",
    "        for line in folds[2]: tst1 = tst1 + txt_to_y(line)\n",
    "        for line in folds[3]: tst2 = tst2 + txt_to_y(line)\n",
    "    \n",
    "    elif x_y == \"x\":\n",
    "        # concatenate each .wav file's x values \n",
    "        for line in folds[0]: trn1 = trn1 + wav_to_x(line)\n",
    "        for line in folds[1]: trn2 = trn2 + wav_to_x(line)\n",
    "        for line in folds[2]: tst1 = tst1 + wav_to_x(line)\n",
    "        for line in folds[3]: tst2 = tst2 + wav_to_x(line)\n",
    "        \n",
    "    return([trn1, trn2, tst1, tst2])"
   ]
  },
  {
   "cell_type": "code",
   "execution_count": 810,
   "metadata": {
    "collapsed": false
   },
   "outputs": [
    {
     "name": "stdout",
     "output_type": "stream",
     "text": [
      "{0.0} <music21.stream.Score 0x126028150>\n",
      "    {0.0} <music21.stream.Part 0x125d97050>\n",
      "        {0.0} <music21.tempo.MetronomeMark Quarter=136.54>\n",
      "        {0.0} <music21.note.Rest rest>\n",
      "        {1.125} <music21.note.Note A>\n",
      "{5.625} <music21.stream.Score 0x125d97810>\n",
      "    {0.0} <music21.stream.Part 0x134a4c5d0>\n",
      "        {0.0} <music21.tempo.MetronomeMark Quarter=136.54>\n",
      "        {0.0} <music21.note.Rest rest>\n",
      "        {1.125} <music21.note.Note B>\n",
      "{11.25} <music21.stream.Score 0x134a4cfd0>\n",
      "    {0.0} <music21.stream.Part 0x1267300d0>\n",
      "        {0.0} <music21.tempo.MetronomeMark Quarter=136.54>\n",
      "        {0.0} <music21.note.Rest rest>\n",
      "        {1.125} <music21.note.Note B->\n"
     ]
    }
   ],
   "source": [
    "# opening wave files\n",
    "import wave\n",
    "\n",
    "fl_lst = ['data/maps/AkPnCGdD/ISOL/NO/MAPS_ISOL_NO_F_S0_M21_AkPnCGdD',\n",
    "          'data/maps/AkPnCGdD/ISOL/NO/MAPS_ISOL_NO_F_S0_M23_AkPnCGdD',\n",
    "          'data/maps/AkPnCGdD/ISOL/ST/MAPS_ISOL_ST_F_S0_M22_AkPnCGdD']\n",
    "\n",
    "mid_strm = m21.stream.Stream()\n",
    "wav_strm = []\n",
    "\n",
    "for i in fl_lst:\n",
    "    \n",
    "    mid_strm.append(m21.converter.parse(i + '.mid'))\n",
    "    # cut out dead time? if you do, you have to do in both midi and wav\n",
    "    \n",
    "    # load wav file into a list\n",
    "    wav_strm.append(mad.audio.signal.Signal(i + \".wav\", sample_rate=None, num_channels=None, \n",
    "                                            start=None, stop=None, norm=False, gain=0.0, dtype=None))\n",
    "    #wav_strm.append(m21.converter.parse(i + '.wav'))\n",
    "\n",
    "mid_strm.show('text')"
   ]
  },
  {
   "cell_type": "markdown",
   "metadata": {},
   "source": [
    "### b. Music"
   ]
  },
  {
   "cell_type": "code",
   "execution_count": 158,
   "metadata": {
    "collapsed": false,
    "scrolled": true
   },
   "outputs": [],
   "source": [
    "# folds used in article N\n",
    "\n",
    "#url = 'http://www.eecs.qmul.ac.uk/~sss31/TASLP/'\n",
    "\n",
    "train_fn = ['debug.txt', 'train1.txt', 'train2.txt', 'train3.txt', 'train4.txt']\n",
    "test_fn = ['test1.txt', 'test2.txt', 'test3.txt', 'test4.txt']\n",
    "\n",
    "for i in range(1): # range(len(train_fn)\n",
    "    \n",
    "    # create train data structure. don't think you want continuous string b/c y times have to match\n",
    "    train_x = []; test_x = []\n",
    "    \n",
    "    for line in open(dat_dir + train_fn[i], 'U'):  # opened in text-mode; all EOLs are converted to '\\n'\n",
    "        \n",
    "        line = line.rstrip('\\n')\n",
    "        \n",
    "        x, wav_dur, wav_frames = wave_to_x(dat_dir + line) # append Essentia or Madmom objects w/ x parms\n",
    "        train_x.append(x)\n",
    "        \n",
    "        base = os.path.basename(line); path = os.path.dirname(line)        \n",
    "        txt_file = dat_dir + path + os.path.splitext(base)[0] + '.txt'\n",
    "        \n",
    "        #train_y = txt_to_y(txt_file, wav_dur, wav_frames)\n",
    "        \n",
    "    # save test and train object lists under trainfile name?\n",
    "        \n",
    "    #for line in open(dat_dir + test_fn[i], 'U'):  # opened in text-mode; all EOLs are converted to '\\n'\n",
    "    #    line = line.rstrip('\\n')\n",
    "            \n",
    "    #    test_x.append(wave_to_x(dat_dir, line))\n",
    "        \n",
    "        #test_y.append(txt_to_y(dat_dir, test_fld[j], test_x[j].wav_dur)\n",
    "        \n",
    "    # save test and train object lists under trainfile name?\n",
    "        \n",
    "    # join objects in each train list (i.e., train1) using variable length pauses. \n",
    "    # join test vects (?) ensuring frames match up exactly\n",
    "    # save test and train datasets\n",
    "    "
   ]
  },
  {
   "cell_type": "markdown",
   "metadata": {},
   "source": [
    "## 2. Generate y's"
   ]
  },
  {
   "cell_type": "markdown",
   "metadata": {},
   "source": [
    "### a. Accoustic Model"
   ]
  },
  {
   "cell_type": "markdown",
   "metadata": {},
   "source": [
    "#### i. Note y's"
   ]
  },
  {
   "cell_type": "code",
   "execution_count": 949,
   "metadata": {
    "collapsed": false
   },
   "outputs": [
    {
     "name": "stdout",
     "output_type": "stream",
     "text": [
      "[ 51  52  53  54  55  56  57  58  59  60  61  62  63  64  65  66  67  68\n",
      "  69  70  71  72  73  74  75  76  77  78  79  80  81  82  83  84  85  86\n",
      "  87  88  89  90  91  92  93  94  95  96  97  98  99 100 101 102 103 104\n",
      " 105 106 107 108]\n",
      "('PITCH NOTE: more than one active:', 1)\n"
     ]
    },
    {
     "name": "stderr",
     "output_type": "stream",
     "text": [
      "/Users/mdowns/.virtualenvs/audio_2.7_env/lib/python2.7/site-packages/ipykernel/__main__.py:26: FutureWarning: convert_objects is deprecated.  Use the data-type specific converters pd.to_datetime, pd.to_timedelta and pd.to_numeric.\n"
     ]
    }
   ],
   "source": [
    "#WHAT ABOUT JUST APPENDING ALL THE MIDIS, THEN SAMPLING, \n",
    "\n",
    "def txt_to_y(txt_file, wav_dur, wav_frames, y_mode):\n",
    "    # valid y_modes: \"pitch_only\", \"chord_only\", \"music\"\n",
    "    \n",
    "    # translates text files w/ onset, offset and pitch into Y (matrix) with midi pitches flagged for each frame\n",
    "    # outputs two Y's: \n",
    "    #  1. y_notes: [n, 89] vect of binaries representing:\n",
    "    #     a. notes A0-C8 on piano keyboard (midi 9-97)\n",
    "    #     b. \"not note\" including notes/pitches outside range AND in-range chords formed by 2+ keys\n",
    "    #  2. y_chords: [n, 120] vect of the \"major\" and \"minor\" triads (some of the most common chords in western music):\n",
    "    #     a. 12 pitch classes i.e., C, C#, D, D#, E, F, F#, G, G#, A, A#, B\n",
    "    #     b. 5 (of total 7.5) octaves i.e., C in 4th octave: C4\n",
    "    #     c. 1 (of total 6 in db) key combinations i.e., triad (not 2, 4, 5, 6, 7)\n",
    "    #     d. major (root pitch, +4 pitches, +3 pitches) or  minor (root pitch, +3, +4) quality \n",
    "    #        i.e., C major triad 4th octave: C4, E4, G4. C minor triad 4th octave: C4, D#4, G4\n",
    "    #     e. NOT IMPLEMENTED: 2 inversions that are defined by the lowest note in the chord\n",
    "    #        i.e., C4, E4, G4 becomes E4, G4, C5 in the first inversion  \n",
    "    #     f. \"not chord\" including single notes and the multitude of less common 2+ note chords\n",
    "    #     other options: http://www.daigleharp.com/Images/Help%20Files/commonchordsforautoharp.pdf, http://www.hooktheory.com/blog/i-analyzed-the-chords-of-1300-popular-songs-for-patterns-this-is-what-i-found/\n",
    "\n",
    "    # read text file into dataframe, sort and round\n",
    "    lines = [line.rstrip('\\n').split('\\t') for line in open(txt_file, 'U')]\n",
    "    headers = lines[0]; lines = lines[1:len(lines)]\n",
    "    \n",
    "    lines = pd.DataFrame(lines, columns=[headers[0], headers[1], \n",
    "                                         headers[2]]).convert_objects(convert_numeric=True)\n",
    "    \n",
    "    lines = lines.round({'OnsetTime': 2, 'OffsetTime': 2, 'MidiPitch': 0})\n",
    "    \n",
    "    lines = lines.sort_values(['OnsetTime', 'OffsetTime', 'MidiPitch'], \n",
    "                              axis=0, ascending=True, inplace=False, \n",
    "                              kind='quicksort', na_position='last')\n",
    "    \n",
    "    # assign line records to note or chord arrays\n",
    "    chord_rcds_fl = 0; in_chord_fl = 0; note_rcds_fl = 0\n",
    "    for i in range(1,lines.shape[0]):\n",
    "        # if same onset...\n",
    "        if lines[i,0] == lines[(i-1),0]:\n",
    "            # ... and first chord in piece,...\n",
    "            if first_chord_fl == 0:\n",
    "                # ...instantiate chord array using prior line\n",
    "                active_chords = lines[(i-1),:]\n",
    "                chord_rcds_fl = 1; in_chord_fl = 1\n",
    "            # otherwise, append prior line to chord array\n",
    "            else:\n",
    "                active_chords.append(lines[i-1,:])\n",
    "                in_chord_fl = 1\n",
    "        # not same onset,...\n",
    "        else:\n",
    "            # ...but you were in a chord, then prior line appended to chord array.\n",
    "            if in_chord_fl == 1:\n",
    "                active_chords.append(lines[i-1,:])\n",
    "                in_chord_fl = 0\n",
    "            # ...and not in a chord,...\n",
    "            else:\n",
    "                # ...if first note record,...\n",
    "                if note_rcds_fl == 0:\n",
    "                    # ...then instantiate note array using prior line\n",
    "                    active_pitches = lines[(i-1),:]\n",
    "                    note_rcds_fl = 1\n",
    "                # ... and note array already started, then append line to note array\n",
    "                else:\n",
    "                    active_pitches.append(lines[i-1,:])\n",
    "    \n",
    "    # format time index w/ slices = wave frame sample rate        \n",
    "    time_ctr = 0\n",
    "    time_incr = float(wav_dur) / wav_frames\n",
    "    time_idx = []\n",
    "    \n",
    "    for k in range(wav_frames): \n",
    "        time_idx.append(time_ctr)\n",
    "        time_ctr = time_ctr + time_incr\n",
    "    time_idx = pd.DataFrame(time_idx)\n",
    "    \n",
    "    # initialize y matrix\n",
    "    Y_pitch = pd.DataFrame(np.zeros((NUM_PITCH_CLASSES, len(time_idx)), dtype=int),\n",
    "                           columns = RANGE_PIANO_PITCH + [0])\n",
    "    Y_chord = pd.DataFrame(np.zeros((NUM_PITCH_CLASSES, len(time_idx)), dtype=int),\n",
    "                           columns = RANGE_PIANO_PITCH + [0])\n",
    "    \n",
    "    np.zeros((NUM_CHORD_CLASSES, len(time_idx)), dtype=int)\n",
    "    \n",
    "    # run thru timeline flipping pitch and chord Y's based on what's active at that time\n",
    "        # note: pitch_only, chord_only logic only relevant if you want to process error\n",
    "        # if you don't, just flip \"not_pitch\" and \"not_chord\" flags on their respective tables.\n",
    "        # note: assuming single \"not\" works i.e., \"no sound\" doesn't provide incremental value.\n",
    "    \n",
    "    work through times\n",
    "    if active chord time,\n",
    "        if y_type == \"pitch_only\"\n",
    "            process error\n",
    "        elif y_type == \"chord_only\"\n",
    "            load into m21\n",
    "            decipher chord\n",
    "            flip chord\n",
    "    if active note time,\n",
    "        if y_type == \"chord_only\"\n",
    "            process error\n",
    "        elif y_type == \"pitch_only\"\n",
    "            flip y\n",
    "\n",
    "    # step thru active, single pitch records\n",
    "    for i in range(1): #range(active_pitches.shape[0]):\n",
    "            \n",
    "        # if it's a valid pitch...\n",
    "        if lines.iloc[i,2] in RANGE_PIANO_PITCH:\n",
    "                \n",
    "            # ...find the ids of all time indexes that fall after the onset...\n",
    "            more = time_idx[time_idx[0] >= lines.iloc[i,0]].index.tolist()\n",
    "                \n",
    "            #...and the ids of all time indexes that fall before the offset\n",
    "            less = time_idx[time_idx[0] <= lines.iloc[i,1]].index.tolist()\n",
    "            \n",
    "            # the intersection are the ides of time indexes where a pitch was active\n",
    "            net = np.intersect1d(more, less, assume_unique=False)\n",
    "            \n",
    "            # flip the corresponding flag\n",
    "            for j in range(len(net)):\n",
    "                Y_pitch[int(lines.iloc[i,2]),net[j]] = 1\n",
    "                \n",
    "        else:\n",
    "        \n",
    "        \n",
    "    \n",
    "        \n",
    "    \n",
    "    return(Y_pitch, Y_chord)\n",
    "\n",
    "Y = txt_to_y('data/maps/AkPnCGdD/MUS/MAPS_MUS-chp_op18_AkPnCGdD.txt', 311, 31141, \"pitch\")"
   ]
  },
  {
   "cell_type": "code",
   "execution_count": 977,
   "metadata": {
    "collapsed": false
   },
   "outputs": [
    {
     "data": {
      "text/plain": [
       "[21,\n",
       " 22,\n",
       " 23,\n",
       " 24,\n",
       " 25,\n",
       " 26,\n",
       " 27,\n",
       " 28,\n",
       " 29,\n",
       " 30,\n",
       " 31,\n",
       " 32,\n",
       " 33,\n",
       " 34,\n",
       " 35,\n",
       " 36,\n",
       " 37,\n",
       " 38,\n",
       " 39,\n",
       " 40,\n",
       " 41,\n",
       " 42,\n",
       " 43,\n",
       " 44,\n",
       " 45,\n",
       " 46,\n",
       " 47,\n",
       " 48,\n",
       " 49,\n",
       " 50,\n",
       " 51,\n",
       " 52,\n",
       " 53,\n",
       " 54,\n",
       " 55,\n",
       " 56,\n",
       " 57,\n",
       " 58,\n",
       " 59,\n",
       " 60,\n",
       " 61,\n",
       " 62,\n",
       " 63,\n",
       " 64,\n",
       " 65,\n",
       " 66,\n",
       " 67,\n",
       " 68,\n",
       " 69,\n",
       " 70,\n",
       " 71,\n",
       " 72,\n",
       " 73,\n",
       " 74,\n",
       " 75,\n",
       " 76,\n",
       " 77,\n",
       " 78,\n",
       " 79,\n",
       " 80,\n",
       " 81,\n",
       " 82,\n",
       " 83,\n",
       " 84,\n",
       " 85,\n",
       " 86,\n",
       " 87,\n",
       " 88,\n",
       " 89,\n",
       " 90,\n",
       " 91,\n",
       " 92,\n",
       " 93,\n",
       " 94,\n",
       " 95,\n",
       " 96,\n",
       " 97,\n",
       " 98,\n",
       " 99,\n",
       " 100,\n",
       " 101,\n",
       " 102,\n",
       " 103,\n",
       " 104,\n",
       " 105,\n",
       " 106,\n",
       " 107,\n",
       " 108,\n",
       " 0]"
      ]
     },
     "execution_count": 977,
     "metadata": {},
     "output_type": "execute_result"
    }
   ],
   "source": [
    "RANGE_PIANO_PITCH + [0]"
   ]
  },
  {
   "cell_type": "code",
   "execution_count": 975,
   "metadata": {
    "collapsed": false
   },
   "outputs": [
    {
     "data": {
      "text/html": [
       "<div>\n",
       "<table border=\"1\" class=\"dataframe\">\n",
       "  <thead>\n",
       "    <tr style=\"text-align: right;\">\n",
       "      <th></th>\n",
       "      <th>0</th>\n",
       "      <th>1</th>\n",
       "      <th>2</th>\n",
       "    </tr>\n",
       "  </thead>\n",
       "  <tbody>\n",
       "    <tr>\n",
       "      <th>0</th>\n",
       "      <td>1</td>\n",
       "      <td>2</td>\n",
       "      <td>3</td>\n",
       "    </tr>\n",
       "    <tr>\n",
       "      <th>3</th>\n",
       "      <td>1</td>\n",
       "      <td>9</td>\n",
       "      <td>9</td>\n",
       "    </tr>\n",
       "  </tbody>\n",
       "</table>\n",
       "</div>"
      ],
      "text/plain": [
       "   0  1  2\n",
       "0  1  2  3\n",
       "3  1  9  9"
      ]
     },
     "execution_count": 975,
     "metadata": {},
     "output_type": "execute_result"
    }
   ],
   "source": [
    "tst[tst.iloc[:,0] == tst.iloc[0,0]]\n"
   ]
  },
  {
   "cell_type": "code",
   "execution_count": 937,
   "metadata": {
    "collapsed": false
   },
   "outputs": [
    {
     "data": {
      "text/plain": [
       "4216"
      ]
     },
     "execution_count": 937,
     "metadata": {},
     "output_type": "execute_result"
    }
   ],
   "source": [
    "fp = 'data/maps/AkPnCGdD/MUS/MAPS_MUS-chp_op18_AkPnCGdD.mid'\n",
    "mf = m21.midi.MidiFile()\n",
    "mf.open(fp)\n",
    "mf.read()\n",
    "mf.close()\n",
    "len(mf.tracks)\n",
    "\n",
    "s = m21.midi.translate.midiFileToStream(mf)\n",
    "s\n",
    "len(s.flat.notesAndRests)\n"
   ]
  },
  {
   "cell_type": "code",
   "execution_count": null,
   "metadata": {
    "collapsed": true
   },
   "outputs": [],
   "source": [
    "s[1:10].show()"
   ]
  },
  {
   "cell_type": "markdown",
   "metadata": {},
   "source": [
    "#### ii. Chord y's"
   ]
  },
  {
   "cell_type": "code",
   "execution_count": null,
   "metadata": {
    "collapsed": true
   },
   "outputs": [],
   "source": []
  },
  {
   "cell_type": "markdown",
   "metadata": {},
   "source": [
    "### c. Language Model y's"
   ]
  },
  {
   "cell_type": "code",
   "execution_count": null,
   "metadata": {
    "collapsed": true
   },
   "outputs": [],
   "source": []
  },
  {
   "cell_type": "markdown",
   "metadata": {},
   "source": [
    "## 3. Generate X"
   ]
  },
  {
   "cell_type": "markdown",
   "metadata": {},
   "source": [
    "### a. Acoustic Model"
   ]
  },
  {
   "cell_type": "markdown",
   "metadata": {},
   "source": [
    "#### i. Notes X (for CNN)\n",
    "\n",
    "An End-to-End Neural Network for Polyphonic Piano Music Transcription:\n",
    "\n",
    "    Acoustic model inputs: \n",
    "We transform the input audio to a time-frequency rep- resentation which is then input to the acoustic models. In [20], we used the magnitude short-time Fourier transform (STFT) as input to the acoustic models. However, here we experiment with the constant Q transform (CQT) as the input representation. There are two motivations for this. Firstly, the CQT is fundamentally better suited as a time-frequency representation for music signals, since the frequency axis is linear in pitch [46]. Another advantage of using the CQT is that the resulting representation is much lower dimensional than the STFT. Having a lower dimensional representation is useful when using neural network acoustic models as it reduces the number of parameters in the model.\n",
    "\n",
    "We downsample the audio to 16 kHz from 44.1 kHz. We then compute CQTs over 7 octaves with 36 bins per octave and a hop size of 512 samples, resulting in a 252 dimensional input vector of real values, with a frame rate of 31.25 frames per second. Additionally, we compute the mean and standard deviation of each dimension over the training set and transform the data by subtracting the mean and diving by the standard deviation. \n",
    "\n",
    "    Language model:\n",
    "For the language model training, we sample the MIDI ground truth transcriptions of the training data at the same rate as the audio (32 ms). We obtain sequences of 88 dimensional binary vectors for training the RNN-NADE language models. The 88 outputs correspond to notes A0-C8 on a piano.\n",
    "\n",
    "The test audio is sampled at a frame rate of 100 Hz yielding 100 ⇤ 30 = 3000 frames per test file. For 54 test files over 4 splits, we obtain a total of 648,000 frames at test time2"
   ]
  },
  {
   "cell_type": "code",
   "execution_count": 589,
   "metadata": {
    "collapsed": false
   },
   "outputs": [
    {
     "name": "stdout",
     "output_type": "stream",
     "text": [
      "(13411,)\n",
      "(13, 26823)\n",
      "26823\n",
      "26823\n",
      "(12, 26823)\n"
     ]
    }
   ],
   "source": [
    "from scipy.ndimage.filters import maximum_filter\n",
    "from essentia.standard import *\n",
    "\n",
    "def wav_to_notes(wav_file):\n",
    "    \n",
    "    # load wav file\n",
    "    sig = mad.audio.signal.Signal(wav_file, sample_rate = NUM_SAMPLES, num_channels = 1, )\n",
    "    wav_dur = sig.shape[0] / sig.sample_rate\n",
    "    \n",
    "    # Use FramedSignal object to split the signal into frames w/ 2048 samples ea w/ 441 sample overlap \n",
    "    fs = mad.audio.signal.FramedSignal(sig, frame_size = NUM_FRAMES, hop_size = NUM_HOPS) # 2048 / 441\n",
    "    \n",
    "    # Using FramedSignal, calculate short term fourrier transform\n",
    "    stft = mad.audio.stft.STFT(fs[0])\n",
    "    \n",
    "    # spec = mad.audio.spectrogram.Spectrogram(stft); print(spec.shape)\n",
    "    spec = mad.audio.spectrogram.Spectrogram(sig, num_channels=1, frame_size = NUM_FRAMES, hop_size = NUM_HOPS)\n",
    "    \n",
    "    # what value can the second channel provide? CNN can handle multiple channels. so, may want a version\n",
    "    # of this which uses 2+ channels and, if necessary, doesn't run through problemantic down stream process. \n",
    "    \n",
    "    # spectral_flx creates linearly spaced magnitude spectogram filtered logarithmically (24 bands / octive)\n",
    "    sf = mad.features.onsets.spectral_flux(spec)\n",
    "    \n",
    "    # filtering\n",
    "    filt_spec = mad.audio.spectrogram.FilteredSpectrogram(spec,\n",
    "                                                          filterbank = mad.audio.filters.LogFilterbank,\n",
    "                                                          num_bands = NUM_BANDS)\n",
    "    \n",
    "    # To better match the perception of loudness of humans, the filtered spectrogram is also scaled logarithmically\n",
    "    log_spec = mad.audio.spectrogram.LogarithmicSpectrogram(filt_spec, add=1)\n",
    "    \n",
    "    # maximum filter size spreads over 3 frequency bins\n",
    "    size = (1, 3)\n",
    "    max_spec = maximum_filter(log_spec, size=size)\n",
    "\n",
    "    # Now we continue to calculate the difference w.r.t. this \"widened\" spectrogram.\n",
    "    diff = np.zeros_like(log_spec)\n",
    "    diff[1:] = (log_spec[1:] - max_spec[: -1])\n",
    "    pos_diff = np.maximum(0, diff)\n",
    "    \n",
    "    # sum everything to get the onset detection function\n",
    "    superflux = np.sum(pos_diff, axis=1)\n",
    "    print(superflux.shape)\n",
    "    \n",
    "    # comparison using single function call\n",
    "    #log_filt_spec = mad.audio.spectrogram.LogarithmicFilteredSpectrogram(wav_file,\n",
    "    #                                                                     sample_rate = samples,\n",
    "    #                                                                     num_channels = 1,\n",
    "    #                                                                     num_bands = bands,\n",
    "    #                                                                     frame_size = frames,\n",
    "    #                                                                     hop_size = hops)\n",
    "    \n",
    "    #superflux1 = mad.features.onsets.superflux(log_filt_spec); print(superflux.shape)\n",
    "    \n",
    "    #plt.figure()\n",
    "    #plt.plot(superflux[:400], 'b')  # blue\n",
    "    #plt.plot(superflux1[:400], 'g')  # green\n",
    "\n",
    "    # instantiate the audio loader:\n",
    "    loader = essentia.standard.MonoLoader(filename = wav_file)\n",
    "\n",
    "    # and then we actually perform the loading:\n",
    "    audio = loader()\n",
    "\n",
    "    # instantiate windowing \n",
    "    w = Windowing(type = 'blackmanharris74')\n",
    "    spectrum = Spectrum()\n",
    "    mfcc = MFCC()\n",
    "    speaks = SpectralPeaks(sampleRate = NUM_SAMPLES)\n",
    "    hpcp = HPCP(sampleRate = NUM_SAMPLES)\n",
    "\n",
    "    # process frames\n",
    "    mfccs = []; spec_f = []; spec_m = []; chroma = []\n",
    "    for frame in FrameGenerator(audio, frameSize = NUM_FRAMES, hopSize = NUM_HOPS):\n",
    "        # calculate Mel-frequency cepstrum coefficients\n",
    "        mfcc_bands, mfcc_coeffs = mfcc(spectrum(w(frame))) \n",
    "        mfccs.append(mfcc_coeffs)\n",
    "        \n",
    "        # calculate spectral peak frequencies, magnitudes\n",
    "        sp_f, sp_m = speaks(spectrum(w(frame)))\n",
    "        spec_f.append(sp_f); spec_m.append(sp_m)\n",
    "        \n",
    "        chroma.append(hpcp(sp_f, sp_m))\n",
    "    \n",
    "    mfccs = essentia.array(mfccs).T\n",
    "    print(mfccs.shape)\n",
    "    #plt.figure(); plt.plot(mfccs[1,:], aspect = 'auto')\n",
    "    \n",
    "    #spec_f is a list of lists\n",
    "    print(len(spec_f))\n",
    "    \n",
    "    #spec_m is a list of lists\n",
    "    print(len(spec_m))\n",
    "    \n",
    "    chroma = essentia.array(chroma).T\n",
    "    print(chroma.shape)\n",
    "    #plt.figure(); plt.plot(chroma[1:], aspect = 'auto')\n",
    "    \n",
    "    return(mfccs, superflux, chroma, wav_dur, superflux.shape[0])\n",
    "\n",
    "mfccs, sf, chroma, wav_dur, wav_frames = wav_to_notes('data/maps/AkPnCGdD/MUS/MAPS_MUS-chp_op18_AkPnCGdD.wav')"
   ]
  },
  {
   "cell_type": "code",
   "execution_count": 588,
   "metadata": {
    "collapsed": false
   },
   "outputs": [
    {
     "data": {
      "text/plain": [
       "[<matplotlib.lines.Line2D at 0x1780f0250>]"
      ]
     },
     "execution_count": 588,
     "metadata": {},
     "output_type": "execute_result"
    },
    {
     "data": {
      "image/png": "[encoded data removed]",
      "text/plain": [
       "<matplotlib.figure.Figure at 0x1781dce10>"
      ]
     },
     "metadata": {},
     "output_type": "display_data"
    },
    {
     "data": {
      "image/png": "[encoded data removed]",
      "text/plain": [
       "<matplotlib.figure.Figure at 0x1781cc1d0>"
      ]
     },
     "metadata": {},
     "output_type": "display_data"
    },
    {
     "data": {
      "image/png": "[encoded data removed]",
      "text/plain": [
       "<matplotlib.figure.Figure at 0x177fb8110>"
      ]
     },
     "metadata": {},
     "output_type": "display_data"
    }
   ],
   "source": [
    "plt.figure()\n",
    "plt.plot(sf)\n",
    "\n",
    "plt.figure()\n",
    "plt.plot(mfccs[0,:])\n",
    "\n",
    "plt.figure()\n",
    "plt.plot(chroma[0,:])"
   ]
  },
  {
   "cell_type": "markdown",
   "metadata": {},
   "source": [
    "#### ii. Chords X (for CNN)\n",
    "\n",
    "\"Audio chord recognition with a hybrid neural network\"\n",
    "\n",
    "We use DNNs to learn discriminative features from a time- frequency representation of the audio. This is contrary to the common approach of extracting chroma features (and their many variants) as a preprocessing step. \n",
    "\n",
    "We transform the raw audio signal into a time-frequency representation with the constant-Q transform [6]. We first down-sample the audio to 11.025 kHz and compute the CQT with a hop-size of 1024 sam- ples. The CQT is computed over 7 octaves with 24 bins per octave yielding a 168 dimensional vector of real values. One of the advantages of using the CQT is that the rep- resentation is low dimensional and linear in pitch. Com- puting the short-time Fourier transform over long analysis windows would lead to a much higher dimensional rep- resentation. \n",
    "\n",
    "After extracting CQT frames for each track, we use a DNN to classify each frame to its corresponding chord label... We used DNNs with 3 hidden layers. We constrained all the layers to have the same number of hidden units to simplify the task of searching for good DNN architectures. The DNNs have a softmax output layer and the model parameters are obtained using maximum likelihood estimation.\n",
    "\n",
    "Once the DNNs are trained, we use the activations of the final hidden layer of the DNN as features. In our experi- ments we observed that the acoustic model performance was improved (⇠ 3% absolute improvement in frame-level accuracy) if we provided each frame of features with context information. Context information was provided by performing mean and variance pooling over a context window around the central frame of interest [3]. A context window of length 2k + 1 is comprised of the central frame of interest, along with k frames before and after the central frame. In our experiments we found that a context window of 7 frames provided the best results.\n",
    "\n",
    "We trained the network with mini-batch stochastic gradient descent. Instead of using learning rate update schedules, we use ADADELTA which adapts the learning rate over iterations [18]. In our experiments we found Dropout was essential to improve generalisation [16]. We found a Dropout rate of 0.3 applied to all layers of the DNN to be optimal for controlling overfitting. Once the models are trained, we use the model that performs best on the vali- dation set to extract features. In our experiments, the best performing model had 100 hidden units in each layer. Figure 1 is a graphical representation of the feature extraction pipeline. In section 6, we compare DNN acoustic models with different feature inputs.\n",
    "\n",
    "We used a mini-batch size of 100 and early stopping for training. Training was stopped if the log-likelihood of the validation set did not increase for 20 iterations over the entire training set. Unlike the feature extraction stage, we do not discard any of the trained models. Instead of using only the best performing model on the validation set, we average the predictions of all the trained models to form an ensemble of DNNs [8] as the acoustic model. We found that simply averaging the predictions of the acoustic classifiers led to an absolute improvement of up to 3% on frame classification accuracies.\n",
    "\n",
    "The results show that the performance of the acoustic model is greatly improved when the input features to the model are learnt by a DNN as opposed to CQT inputs. The performance of the acoustic model is further improved (3% absolute improvement) when mean and variance pooling is performed over a context window of DNN features."
   ]
  },
  {
   "cell_type": "code",
   "execution_count": 589,
   "metadata": {
    "collapsed": false
   },
   "outputs": [
    {
     "name": "stdout",
     "output_type": "stream",
     "text": [
      "(13411,)\n",
      "(13, 26823)\n",
      "26823\n",
      "26823\n",
      "(12, 26823)\n"
     ]
    }
   ],
   "source": [
    "from mad.audio.chroma import DeepChromaProcessor\n",
    "from mad.processors import SequentialProcessor\n",
    "\n",
    "def wav_to_chords(wav_file):\n",
    "    \n",
    "    # instantiate madmom deep chroma processor to extract chroma vectors\n",
    "    dcp = DeepChromaProcessor()\n",
    "    \n",
    "    # create DeepChromaChordRecognitionProcessor to decode chord sequence from extracted chromas\n",
    "    decode = DeepChromaChordRecognitionProcessor()\n",
    "    \n",
    "    # SequentialProcessor transcribes chords\n",
    "    chordrec = SequentialProcessor([dcp, decode])\n",
    "    chordrec(wav_file)\n",
    "    \n",
    "    # extract learned chord recognition features per:\n",
    "    # Filip Korzeniowski and Gerhard Widmer, “A Fully Convolutional Deep Auditory Model for Musical Chord Recognition”\n",
    "    proc = CNNChordFeatureProcessor()\n",
    "    features = proc('tests/data/audio/sample2.wav')\n",
    "    \n",
    "    return(mfccs, superflux, chroma, wav_dur, superflux.shape[0])\n",
    "\n",
    "mfccs, sf, chroma, wav_dur, wav_frames = wav_to_chords('data/maps/AkPnCGdD/MUS/MAPS_MUS-chp_op18_AkPnCGdD.wav')"
   ]
  },
  {
   "cell_type": "markdown",
   "metadata": {},
   "source": [
    "### b. Language Model: X (for RNN/LSTM)\n",
    "\n",
    "Music, like language, exhibits temporal structure. Language model used to provide prior probability distribution for notes and chords. \n",
    "\n",
    "HMM: \"A Supervised Approach To Musical Chord Recognition\" is good example of using HMM on chord sequence in western music that greatly increases chord prediction accuracy. \n",
    "\n",
    "RNN: \"An End-to-End Neural Network for Polyphonic Piano Music Transcription\"\n",
    "\n",
    "Two approaches:\n",
    "\n",
    "First, as outlined in \"An End-to-End Neural Network for Polyphonic Piano Music Transcription\" (where they sampled the midi file for ground truth. Wow, seems that could be an easy way of fiding what freq's are turned off, on) and \"Audio chord recognition with a hybrid neural network\", you can use an RNN (LSTM) to create lanaguge model building note/chord prediction based on priors using all prior history (i.e., unlike HMM which only considers current state). \n",
    "\n",
    "However, you can't just do this in a gready fashion. That is, the correct prediction at time t is not known. Therefore, you can't just predict t+1 based on t (the HMM approach) or even t, t-1, t-2,... t-n (the RNN/LSTM) approach. So, you have to have a way of entertaining a number of possible options, settling on one or the other as evidence of its correct-ness accumulates. So, this requires a method of entertaining, sequentially, a range of solutions winnowing as you go, that's beam search. \n",
    "\n",
    "Beam search 1. generates a range of t+1 predictions sorted by probability estimate, 2. re-estimates the predictions as new X's arrive adding some and dropping others. Beam search has its own problems, some of which are addressed by hashing the beams, but that's beyond the scope. \n",
    "\n",
    "Second, if you assume knowledge of the song (either b/c user entered, or based on note search, prediction becomes a binary classification task i.e., does the current sound match the \"predicted\" sound. And, if not, provide the estimated sound. This model starts w/ knowledge of the song being played. Later, I'll add beam search soley for the purpose of identifying the song. \n",
    "\n",
    "*** \n",
    "\n",
    "As outlined in Section 3, we use RNNs with LSTM units for language modelling. The training data for the language models is obtained by sampling the ground truth chord transcriptions at the same frame-rate at which CQTs are extracted from the audio waveforms. We use RNNs with 2 layers of hidden recurrent units (100 LSTM units each) and an output softmax layer. Each training sequence was further divided into sub-sequences of length 100. \n",
    "\n",
    "The RNNs were trained with stochastic gradient descent on individual sub-sequences, without any mini-batching. Unlike the acoustic models, we observed that ADADELTA did not perform very well for RNN training. Instead, we used an initial learning rate of 0.001 that was linearly decreased to 0 over 1000 training iterations. We also found that a constant momentum rate of 0.9 helped training converge faster and yielded better results on the test set. We used early stopping and training was stopped if validation log- likelihood did not increase after 20 epochs. We used gra- dient clipping when the norm of the gradients was greater than 50 to avoid gradient explosion in the early stages of training.\n"
   ]
  },
  {
   "cell_type": "code",
   "execution_count": null,
   "metadata": {
    "collapsed": true
   },
   "outputs": [],
   "source": []
  },
  {
   "cell_type": "markdown",
   "metadata": {},
   "source": [
    "# Train"
   ]
  },
  {
   "cell_type": "markdown",
   "metadata": {},
   "source": [
    "## n. Fingerprint music\n",
    "\n",
    "https://github.com/dpwe/audfprint\n",
    "\n",
    "Audfprint is a python (and Matlab) script that can take a list of soundfiles and create a database of landmarks, and then subsequently take one or more query audio files and match them against the previously-created database.  The fingerprint is robust to things like time skews, different encoding schemes, and even added noise. It can match small fragments of sound, down to 10 sec or less."
   ]
  },
  {
   "cell_type": "markdown",
   "metadata": {},
   "source": [
    "# Output Results"
   ]
  },
  {
   "cell_type": "markdown",
   "metadata": {},
   "source": [
    "## 1. midi-note"
   ]
  },
  {
   "cell_type": "code",
   "execution_count": 662,
   "metadata": {
    "collapsed": false
   },
   "outputs": [
    {
     "name": "stdout",
     "output_type": "stream",
     "text": [
      "(3, 'A')\n"
     ]
    }
   ],
   "source": [
    "def midi_note(in_val, out_fmt):\n",
    "    # takes midi value and returns (octave, note) or takes (octave, note) and returns midi value\n",
    "    # midi <-> note source: \n",
    "    # http://www.electronics.dit.ie/staff/tscarff/Music_technology/midi/midi_note_numbers_for_octaves.htm\n",
    "    \n",
    "    notes = pd.DataFrame({'note': ['C', 'C#', 'D', 'D#', 'E', 'F', 'F#', 'G', 'G#', 'A', 'A#', 'B']})\n",
    "    \n",
    "    if out_fmt == \"midi\":\n",
    "        octave = int(in_val[0])\n",
    "        note = in_val[1]\n",
    "        try:\n",
    "            note_num = notes[notes['note'] == in_val[1]].index.tolist()[0]\n",
    "        except IndexError:\n",
    "            return('NA')\n",
    "        \n",
    "        midi = octave * 12 + note_num\n",
    "        if midi > 127: midi = 'NA'\n",
    "        return(midi)\n",
    "    \n",
    "    if out_fmt == \"note\":\n",
    "        if in_val > 127:\n",
    "            return('NA')\n",
    "        else:\n",
    "            midi = int(in_val)\n",
    "            octave = int(midi / 12)\n",
    "            note = notes.iloc[midi % 12][0]\n",
    "        return((octave, note))\n",
    "        \n",
    "print(midi_note(45, \"note\")) # valid midi\n",
    "      \n",
    "# Note: if to/from freq needed: madmom.audio.filters.hz2midi(f, fref=440.0), mad.audio.filters.midi2hz(10, fref=440.0)"
   ]
  },
  {
   "cell_type": "code",
   "execution_count": 660,
   "metadata": {
    "collapsed": false
   },
   "outputs": [
    {
     "data": {
      "text/plain": [
       "<music21.pitch.Pitch A2>"
      ]
     },
     "execution_count": 660,
     "metadata": {},
     "output_type": "execute_result"
    }
   ],
   "source": [
    "mt = m21.midi.MidiTrack(1)\n",
    "dt1 = m21.midi.DeltaTime(mt)\n",
    "dt1.time = 1024\n",
    "\n",
    "me1 = m21.midi.MidiEvent(mt)\n",
    "me1.type = \"NOTE_ON\"\n",
    "me1.pitch = 45\n",
    "me1.velocity = 94\n",
    "\n",
    "dt2 = m21.midi.DeltaTime(mt)\n",
    "dt2.time = 2048\n",
    "\n",
    "me2 = m21.midi.MidiEvent(mt)\n",
    "me2.type = \"NOTE_ON\"\n",
    "me2.pitch = 45\n",
    "me2.velocity = 0\n",
    "\n",
    "n = m21.midi.translate.midiEventsToNote([dt1, me1, dt2, me2])\n",
    "n.pitch\n",
    "#n.duration.quarterLength\n",
    "#n.volume.velocity"
   ]
  },
  {
   "cell_type": "markdown",
   "metadata": {},
   "source": [
    "## 2. midi-chord"
   ]
  },
  {
   "cell_type": "code",
   "execution_count": 669,
   "metadata": {
    "collapsed": false
   },
   "outputs": [
    {
     "name": "stdout",
     "output_type": "stream",
     "text": [
      "A2\n"
     ]
    }
   ],
   "source": [
    "def midi_chord(in_vals, out_fmt):\n",
    "    # takes up to 4 midi values (as tuple) occurring concurrently and returns chord or vice versa\n",
    "    \n",
    "    if out_fmt == \"chord\":\n",
    "        \n",
    "        mt = m21.midi.MidiTrack(1)\n",
    "        track = []\n",
    "        \n",
    "        me1 = m21.midi.MidiEvent(mt)\n",
    "        me2 = m21.midi.MidiEvent(mt)\n",
    "        me3 = m21.midi.MidiEvent(mt)\n",
    "        me4 = m21.midi.MidiEvent(mt)\n",
    "        me5 = m21.midi.MidiEvent(mt)\n",
    "        me6 = m21.midi.MidiEvent(mt)\n",
    "        me7 = m21.midi.MidiEvent(mt)\n",
    "        me8 = m21.midi.MidiEvent(mt)\n",
    "        \n",
    "        events = [me1, me2, me3, me4, me5, me6, me7, me8]\n",
    "        \n",
    "        dt0 = m21.midi.DeltaTime(mt)\n",
    "        dt0.time = 0\n",
    "        \n",
    "        for i in range(len(in_vals)):\n",
    "            \n",
    "            track.append(dt0)\n",
    "            \n",
    "            events[i].type = \"NOTE_ON\"\n",
    "            events[i].pitch = in_vals[i]\n",
    "            events[i].velocity = 94\n",
    "            \n",
    "            track.append(events[i])\n",
    "        \n",
    "        dt1 = m21.midi.DeltaTime(mt)\n",
    "        dt1.time = 2048\n",
    "        track.append(dt1)\n",
    "        \n",
    "        incr = len(in_vals)\n",
    "        \n",
    "        for j in range(len(in_vals)):\n",
    "\n",
    "            events[j+incr].type = \"NOTE_OFF\"\n",
    "            events[j+incr].pitch = in_vals[j]\n",
    "            events[j+incr].velocity = 0\n",
    "            \n",
    "            track.append(events[j+incr])\n",
    "            \n",
    "            track.append(dt0)\n",
    "        \n",
    "        return(m21.midi.translate.midiEventsToChord(track))\n",
    "    \n",
    "    elif out_fmt == \"midi\":\n",
    "        print(\"poop\")\n",
    "\n",
    "c = midi_chord((45,46,47), \"chord\")\n",
    "print(c.pitches[0])"
   ]
  },
  {
   "cell_type": "markdown",
   "metadata": {},
   "source": [
    "# Utilities"
   ]
  },
  {
   "cell_type": "markdown",
   "metadata": {},
   "source": [
    "## 1. Compose midi"
   ]
  },
  {
   "cell_type": "code",
   "execution_count": 623,
   "metadata": {
    "collapsed": false
   },
   "outputs": [
    {
     "name": "stdout",
     "output_type": "stream",
     "text": [
      "[<MidiEvent DeltaTime, t=0, track=1, channel=None>, <MidiEvent NOTE_ON, t=None, track=1, channel=None, pitch=45, velocity=94>, <MidiEvent DeltaTime, t=0, track=1, channel=None>, <MidiEvent NOTE_ON, t=None, track=1, channel=None, pitch=46, velocity=94>, <MidiEvent DeltaTime, t=2048, track=1, channel=None>, <MidiEvent NOTE_OFF, t=None, track=1, channel=None, pitch=45, velocity=0>, <MidiEvent DeltaTime, t=0, track=1, channel=None>, <MidiEvent NOTE_OFF, t=None, track=1, channel=None, pitch=46, velocity=0>, <MidiEvent DeltaTime, t=0, track=1, channel=None>]\n"
     ]
    }
   ],
   "source": [
    "import music21 as m21\n",
    "\n",
    "mt = m21.midi.MidiTrack(1)\n",
    "dt1 = m21.midi.DeltaTime(mt)\n",
    "dt1.time = 0\n",
    "\n",
    "me1 = m21.midi.MidiEvent(mt)\n",
    "me1.type = \"NOTE_ON\"\n",
    "me1.pitch = 45\n",
    "me1.velocity = 94\n",
    "me1.t = 0\n",
    "\n",
    "dt2 = m21.midi.DeltaTime(mt)\n",
    "dt2.time = 0\n",
    "\n",
    "me2 = m21.midi.MidiEvent(mt)\n",
    "me2.type = \"NOTE_ON\"\n",
    "me2.pitch = 46\n",
    "me2.velocity = 94\n",
    "me2.t = 0\n",
    "\n",
    "dt3 = m21.midi.DeltaTime(mt)\n",
    "dt3.time = 2048\n",
    "\n",
    "me3 = m21.midi.MidiEvent(mt)\n",
    "me3.type = \"NOTE_OFF\"\n",
    "me3.pitch = 45\n",
    "me3.velocity = 0\n",
    "me3.t = 2048\n",
    "\n",
    "dt4 = m21.midi.DeltaTime(mt)\n",
    "dt4.time = 0\n",
    "\n",
    "me4 = m21.midi.MidiEvent(mt)\n",
    "me4.type = \"NOTE_OFF\"\n",
    "me4.pitch = 46\n",
    "me4.velocity = 0\n",
    "me4.t = 2048\n",
    "\n",
    "m21.midi.translate.midiEventsToChord([dt1, me1, dt1, me2, dt3, me3, dt1, me4])\n",
    "\n",
    "print([dt1, me1, dt1, me2, dt3, me3, dt1, me4, dt1])"
   ]
  },
  {
   "cell_type": "markdown",
   "metadata": {},
   "source": [
    "how do you spot notes vs. echos vs. chords?\n",
    "if you feed frames at 44100 hz, does it learn to recognize c# by its peak spectrum profile? or can it spot that as it develops frame by frame?\n",
    "\n",
    "is it more efficient to run an onset / offset identifier (network or other) first to pull out the sounds and feed them to the network? \n",
    "\n",
    "how do you encode y? they've put down the onset and offset times. \n",
    "1. if you encode y=1 for all frames during that period, you're hoping it can spot the tone on the way up and down. that suggests a multi-frame CNN or a LSTM. theoretically, it could try to predict for every frame. but on way down lots of notes look the same. so, confidence s/b low and you'd not predict (default 0). \n",
    "\n",
    "2. if you think it's just going to find it based on relative peaks, take start time + 100ms\n",
    "\n",
    "3. at 47kHz you're getting 800 frames / second. that's a lot. maybe sample less to get rougher image. train acustic model less and use song model to bring up accuracy i.e., taking output from last hidden nodes for acustic and song models \n",
    "\n",
    "READ HER ORIGINAL PIECE, THE OTHER ONE THAT USED HERS AND/OR THE ONE THAT MENTIONED \n",
    "\n",
    "1. if you have onset identifier,it needs to be an array of 0's as long as x. then at the time stamp, it needs to be incoded w/ the midi pitch? then you need to translate to the note"
   ]
  },
  {
   "cell_type": "code",
   "execution_count": null,
   "metadata": {
    "collapsed": true
   },
   "outputs": [],
   "source": [
    "for ds in datasets:\n",
    "    \n",
    "    # LogarithmicFilteredSpectrogram class accepts STFT, FramedSignal, Signal object or a file name as input.\n",
    "    # It loads, filters and scales.\n",
    "\n",
    "    log_filt_spec2 = mad.audio.spectrogram.LogarithmicFilteredSpectrogram('data/maps/MAPS_AkPnBcht_1/AkPnBcht/ISOL/CH/MAPS_ISOL_CH0.1_F_AkPnBcht.wav',\n",
    "                                                                      num_channels=1,\n",
    "                                                                      num_bands=24)\n",
    "    \n",
    "    log_filt_spec = mad.audio.spectrogram.LogarithmicFilteredSpectrogram(ds,\n",
    "                                                                         num_channels=1,\n",
    "                                                                         num_bands=24)\n",
    "\n",
    "    # SpectrogramDifference class calculates first order difference of a spectrogram. diff_frames sets the number\n",
    "    # of frames how far apart the difference should be calculated. diff_max_bins performs maximum filtering. Or, \n",
    "    # positive_diffs returns only the positive differences. Resulting diff spectrogram has the same shape as the \n",
    "    # given one (np.diff() does not), with all frames < diff_frames set to zero.\n",
    "\n",
    "    superflux_diff = mad.audio.spectrogram.SpectrogramDifference(log_filt_spec, positive_diffs=True, diff_max_bins=3)\n",
    "\n",
    "    superflux_2 = np.sum(superflux_diff, axis=1)\n",
    "\n",
    "    superflux_3 = mad.features.onsets.superflux(log_filt_spec)\n",
    "\n",
    "    # we scale them to have the same range\n",
    "    plt.figure()\n",
    "    plt.plot(sf1 / sf1.max(), 'b')  # blue\n",
    "    plt.plot(superflux1 / superflux1.max(), 'g')  # green\n",
    "    plt.plot(superflux_2_1 / superflux_2_1.max(), 'r--')  # dashed red\n",
    "    plt.plot(superflux_3_1 / superflux_3_1.max(), 'k:')  # dotted black\n"
   ]
  },
  {
   "cell_type": "markdown",
   "metadata": {
    "collapsed": true
   },
   "source": [
    "# Read\n",
    "\n",
    "1. Files from directory, OR\n",
    "2. Stream"
   ]
  },
  {
   "cell_type": "code",
   "execution_count": null,
   "metadata": {
    "collapsed": true
   },
   "outputs": [],
   "source": []
  },
  {
   "cell_type": "markdown",
   "metadata": {},
   "source": [
    "# V1: Import piano train / test data\n",
    "\n",
    "1. Take their lists of train and test data\n",
    "2. Create list object\n",
    "3. Feed it to a process to either iteratively or bulk load files from directory\n",
    "4. Perform log scale transform of input wav\n",
    "5. Come back to other features, chords\n"
   ]
  },
  {
   "cell_type": "markdown",
   "metadata": {},
   "source": [
    "# Learn to map sound to notes\n",
    "\n",
    "1. Take professional music sound files\n",
    "2. Play, logging spectrum (frequency / time) and other attributes\n",
    "    a. https://github.com/tyiannak/pyAudioAnalysis/wiki/3.-Feature-Extraction, OR\n",
    "    b. \n",
    "3. Predict notes based on sound\n",
    "    a. input spectrum is the \"X\"\n",
    "    b. sheet music notes are the \"y\" (notes A, B, C, etc.)"
   ]
  },
  {
   "cell_type": "markdown",
   "metadata": {},
   "source": [
    "# V1: Generate harp note / chord train / test files\n",
    "\n",
    "Garageband or other to generate:\n",
    "1. individual instrument note (pitch?), chord by major/minor, octave, inversion\n",
    "2. sequence files w/ varying amounts of spacing\n",
    "3. mp3's of classical music for which you can easily veryify the notes\n"
   ]
  },
  {
   "cell_type": "code",
   "execution_count": null,
   "metadata": {
    "collapsed": true
   },
   "outputs": [],
   "source": []
  },
  {
   "cell_type": "markdown",
   "metadata": {},
   "source": [
    "# V2: Standard: Fingerprint music files"
   ]
  },
  {
   "cell_type": "code",
   "execution_count": null,
   "metadata": {
    "collapsed": true
   },
   "outputs": [],
   "source": [
    "# use FFT, MFCC, etc to create a fignerprint of each of the music files s/t when user starts playing, you can take notes they've played and match "
   ]
  },
  {
   "cell_type": "markdown",
   "metadata": {},
   "source": [
    "# V2: Streaming: Extract note Sample"
   ]
  },
  {
   "cell_type": "markdown",
   "metadata": {},
   "source": [
    "# V2: Streaming: Search / match sample to fingerprints"
   ]
  },
  {
   "cell_type": "markdown",
   "metadata": {},
   "source": [
    "# Establish stream\n",
    "\n",
    "Use pyaudio to instantiate stream for practice session"
   ]
  },
  {
   "cell_type": "code",
   "execution_count": null,
   "metadata": {
    "collapsed": true
   },
   "outputs": [],
   "source": [
    "WIDTH = 2\n",
    "CHANNELS = 2\n",
    "RATE = 44100\n",
    "\n",
    "p = pyaudio.PyAudio()\n",
    "\n",
    "def callback(in_data, frame_count, time_info, status):\n",
    "    return (in_data, pyaudio.paContinue)\n",
    "\n",
    "stream = p.open(format=p.get_format_from_width(WIDTH),\n",
    "                channels=CHANNELS,\n",
    "                rate=RATE,\n",
    "                input=True,\n",
    "                output=True,\n",
    "                stream_callback=callback)\n",
    "\n",
    "stream.start_stream()\n",
    "\n",
    "while stream.is_active():\n",
    "    time.sleep(0.1)\n",
    "\n",
    "stream.stop_stream()\n",
    "stream.close()\n",
    "\n",
    "p.terminate()"
   ]
  },
  {
   "cell_type": "markdown",
   "metadata": {},
   "source": [
    "# Display mode\n",
    "\n",
    "1. Accept song selection\n",
    "2. Load / display sheet music\n",
    "3. Listen for start\n",
    "4. Recieve sounds / translate notes\n",
    "5. Track progress w/ vertical bar\n",
    "6. Spot repeats re-setting tracking bar"
   ]
  },
  {
   "cell_type": "code",
   "execution_count": null,
   "metadata": {
    "collapsed": true
   },
   "outputs": [],
   "source": [
    "# https://github.com/tyiannak/pyAudioAnalysis\n",
    "# http://essentia.upf.edu/documentation/\n"
   ]
  },
  {
   "cell_type": "markdown",
   "metadata": {},
   "source": [
    "# Evaluate mode\n",
    "\n",
    "1. display mode functionality including tracking progress\n",
    "2. record playing. overlay repeats. you're tracking stats. so, obj s/b:\n",
    "    a. to get through song re-playing pieces as required, THEN\n",
    "    b. to get through song cleanly\n",
    "3. comparing played to professional\n",
    "    a. option to play:\n",
    "        i. metrinome \n",
    "        ii. professional a low volume\n",
    "4. identify discrpancies (timing after prior note, incorrect note)\n",
    "    a. Gaia, a C++ library with python bindings which implement similarity measures and classification on the results of audio analysis, and generate classification models that Essentia can use to compute high-level description of music.\n",
    "5. show discrepancies\n",
    "    a. accept tolerances (+/- time, other?)\n",
    "    b. show played note in red (i.e., before/after, above/below).\n",
    "6. show / log statistics\n",
    "    a. accuracy\n",
    "    b. similarity\n",
    "    c. error types and frequency distribution\n",
    "        i. early,\n",
    "        ii. late\n",
    "        iii. wrong note\n",
    "    d. problem areas"
   ]
  },
  {
   "cell_type": "code",
   "execution_count": null,
   "metadata": {
    "collapsed": true
   },
   "outputs": [],
   "source": []
  },
  {
   "cell_type": "markdown",
   "metadata": {},
   "source": [
    "# Interactive mode\n",
    "\n",
    "1. evaluate mode functionality\n",
    "2. prompt session info and imprint voice of user for command interface\n",
    "    a. \"this is []. the date is []. i'll be practicing for about [] minutes.\"\n",
    "3. voice commands\n",
    "    a. \"replay [] notes\" - defaults to: 5 notes, played version\n",
    "    b. \"replay base [] notes\"\n",
    "    c. \"loop [] notes\" - \n",
    "        ii. Loop [] notes / Stop Loop\n",
    "2. "
   ]
  },
  {
   "cell_type": "code",
   "execution_count": null,
   "metadata": {
    "collapsed": true
   },
   "outputs": [],
   "source": []
  },
  {
   "cell_type": "markdown",
   "metadata": {
    "collapsed": true
   },
   "source": [
    "# References\n",
    "\n",
    "This project would not be possible without the invaluable assistance of:\n",
    "\n",
    "## Training data\n",
    "\n",
    "The MAPS piano data set. Roughly 40G of piano notes, chords, music assembled by V. Emiya for her PhD thesis at Telecom ParisTech/ENST in 2008 and in conjunction with R. Badeau, B. David for their paper \"Multipitch estimation of piano sounds using a new probabilistic spectral smoothness principle\"<cite data-cite=\"emiya2010multipitch\"></cite>\n"
   ]
  },
  {
   "cell_type": "code",
   "execution_count": null,
   "metadata": {
    "collapsed": true
   },
   "outputs": [],
   "source": [
    "# for installing latex, bibtex and pdf-ing jupyter notenooks: https://www.youtube.com/watch?v=m3o1KXA1Rjk"
   ]
  }
 ],
 "metadata": {
  "kernelspec": {
   "display_name": "Python 2",
   "language": "python",
   "name": "python2"
  },
  "language_info": {
   "codemirror_mode": {
    "name": "ipython",
    "version": 2
   },
   "file_extension": ".py",
   "mimetype": "text/x-python",
   "name": "python",
   "nbconvert_exporter": "python",
   "pygments_lexer": "ipython2",
   "version": "2.7.11"
  }
 },
 "nbformat": 4,
 "nbformat_minor": 0
}
